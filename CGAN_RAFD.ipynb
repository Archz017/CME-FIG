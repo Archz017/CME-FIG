{
  "nbformat": 4,
  "nbformat_minor": 0,
  "metadata": {
    "colab": {
      "name": "Copy of CGAN-RAFD.ipynb",
      "provenance": [],
      "collapsed_sections": []
    },
    "kernelspec": {
      "name": "python3",
      "display_name": "Python 3"
    },
    "accelerator": "GPU"
  },
  "cells": [
    {
      "cell_type": "code",
      "metadata": {
        "id": "CSojeoBbyfhm",
        "colab": {
          "base_uri": "https://localhost:8080/",
          "height": 122
        },
        "outputId": "e428b210-87da-43d5-851b-a28b5b340cf6"
      },
      "source": [
        "from google.colab import drive\n",
        "drive.mount('/content/drive')"
      ],
      "execution_count": null,
      "outputs": [
        {
          "output_type": "stream",
          "text": [
            "Go to this URL in a browser: https://accounts.google.com/o/oauth2/auth?client_id=947318989803-6bn6qk8qdgf4n4g3pfee6491hc0brc4i.apps.googleusercontent.com&redirect_uri=urn%3aietf%3awg%3aoauth%3a2.0%3aoob&response_type=code&scope=email%20https%3a%2f%2fwww.googleapis.com%2fauth%2fdocs.test%20https%3a%2f%2fwww.googleapis.com%2fauth%2fdrive%20https%3a%2f%2fwww.googleapis.com%2fauth%2fdrive.photos.readonly%20https%3a%2f%2fwww.googleapis.com%2fauth%2fpeopleapi.readonly\n",
            "\n",
            "Enter your authorization code:\n",
            "··········\n",
            "Mounted at /content/drive\n"
          ],
          "name": "stdout"
        }
      ]
    },
    {
      "cell_type": "code",
      "metadata": {
        "id": "T1XljEtb5nAw"
      },
      "source": [
        "import tensorflow as tf\n",
        "import pandas as pd\n",
        "import numpy as np\n",
        "import matplotlib.pyplot as plt\n",
        "from IPython import display\n",
        "from tqdm import tqdm\n",
        "import cv2\n",
        "import glob\n",
        "import pickle"
      ],
      "execution_count": null,
      "outputs": []
    },
    {
      "cell_type": "code",
      "metadata": {
        "id": "EJWuVil55rqO"
      },
      "source": [
        "paths = glob.glob('/content/drive/My Drive/RAFD/RAFD-front/*')"
      ],
      "execution_count": null,
      "outputs": []
    },
    {
      "cell_type": "code",
      "metadata": {
        "id": "moSAtltJ6VCt"
      },
      "source": [
        "emodic = {\n",
        "    'angry' : 0,\n",
        "    'disgusted' : 1,\n",
        "    'fearful' : 2,\n",
        "    'happy' : 3,\n",
        "    'neutral' : 4,\n",
        "    'sad' : 5,\n",
        "    'surprised' : 6, \n",
        "    'contemptuous' : 7\n",
        "}"
      ],
      "execution_count": null,
      "outputs": []
    },
    {
      "cell_type": "code",
      "metadata": {
        "id": "SMoN4OQS66yl",
        "outputId": "d8b32972-0248-4f85-d3cd-d3ee5165a078",
        "colab": {
          "base_uri": "https://localhost:8080/",
          "height": 34
        }
      },
      "source": [
        "paths[10].split('/')[-1].split('_')[-2]"
      ],
      "execution_count": null,
      "outputs": [
        {
          "output_type": "execute_result",
          "data": {
            "text/plain": [
              "'angry'"
            ]
          },
          "metadata": {
            "tags": []
          },
          "execution_count": 4
        }
      ]
    },
    {
      "cell_type": "code",
      "metadata": {
        "id": "qF1XPX1H7zjq"
      },
      "source": [
        "im = cv2.imread(paths[190])"
      ],
      "execution_count": null,
      "outputs": []
    },
    {
      "cell_type": "code",
      "metadata": {
        "id": "vfIFpLwD7-Zw",
        "outputId": "d262314d-d325-447b-f603-890b988b78a8",
        "colab": {
          "base_uri": "https://localhost:8080/",
          "height": 34
        }
      },
      "source": [
        "im.shape"
      ],
      "execution_count": null,
      "outputs": [
        {
          "output_type": "execute_result",
          "data": {
            "text/plain": [
              "(1024, 681, 3)"
            ]
          },
          "metadata": {
            "tags": []
          },
          "execution_count": 6
        }
      ]
    },
    {
      "cell_type": "code",
      "metadata": {
        "id": "XENY2XQX8gpK"
      },
      "source": [
        "im = im[100:-200,:]"
      ],
      "execution_count": null,
      "outputs": []
    },
    {
      "cell_type": "code",
      "metadata": {
        "id": "VmjEM54b8lla"
      },
      "source": [
        "im = cv2.resize(im, (301,301))"
      ],
      "execution_count": null,
      "outputs": []
    },
    {
      "cell_type": "code",
      "metadata": {
        "id": "KRPCtOH_8A-R",
        "outputId": "8a0b4309-8b81-41f3-c61f-698cb615b37f",
        "colab": {
          "base_uri": "https://localhost:8080/",
          "height": 286
        }
      },
      "source": [
        "plt.imshow(cv2.cvtColor(im, cv2.COLOR_BGR2RGB))"
      ],
      "execution_count": null,
      "outputs": [
        {
          "output_type": "execute_result",
          "data": {
            "text/plain": [
              "<matplotlib.image.AxesImage at 0x7f2000631be0>"
            ]
          },
          "metadata": {
            "tags": []
          },
          "execution_count": 9
        },
        {
          "output_type": "display_data",
          "data": {
            "image/png": "[encoded data removed]",
            "text/plain": [
              "<Figure size 432x288 with 1 Axes>"
            ]
          },
          "metadata": {
            "tags": [],
            "needs_background": "light"
          }
        }
      ]
    },
    {
      "cell_type": "code",
      "metadata": {
        "id": "5Yuk7cuw8Di0",
        "outputId": "f228d835-3185-4e01-c86e-58c9dc34c763",
        "colab": {
          "base_uri": "https://localhost:8080/",
          "height": 232
        }
      },
      "source": [
        "imgs = []\n",
        "targets = []\n",
        "\n",
        "for i in paths:\n",
        "  label = i.split('/')[-1].split('_')[-2]\n",
        "  ind = emodic[label]\n",
        "  targets.append(ind)\n",
        "\n",
        "  im = cv2.imread(i)\n",
        "  im = im[100:-200,:]                  # crop\n",
        "  im = cv2.resize(im, (301,301))       # resize\n",
        "  imgs.append(im)"
      ],
      "execution_count": null,
      "outputs": [
        {
          "output_type": "error",
          "ename": "KeyboardInterrupt",
          "evalue": "ignored",
          "traceback": [
            "\u001b[0;31m---------------------------------------------------------------------------\u001b[0m",
            "\u001b[0;31mKeyboardInterrupt\u001b[0m                         Traceback (most recent call last)",
            "\u001b[0;32m<ipython-input-10-d62c28f26e59>\u001b[0m in \u001b[0;36m<module>\u001b[0;34m()\u001b[0m\n\u001b[1;32m      7\u001b[0m   \u001b[0mtargets\u001b[0m\u001b[0;34m.\u001b[0m\u001b[0mappend\u001b[0m\u001b[0;34m(\u001b[0m\u001b[0mind\u001b[0m\u001b[0;34m)\u001b[0m\u001b[0;34m\u001b[0m\u001b[0;34m\u001b[0m\u001b[0m\n\u001b[1;32m      8\u001b[0m \u001b[0;34m\u001b[0m\u001b[0m\n\u001b[0;32m----> 9\u001b[0;31m   \u001b[0mim\u001b[0m \u001b[0;34m=\u001b[0m \u001b[0mcv2\u001b[0m\u001b[0;34m.\u001b[0m\u001b[0mimread\u001b[0m\u001b[0;34m(\u001b[0m\u001b[0mi\u001b[0m\u001b[0;34m)\u001b[0m\u001b[0;34m\u001b[0m\u001b[0;34m\u001b[0m\u001b[0m\n\u001b[0m\u001b[1;32m     10\u001b[0m   \u001b[0mim\u001b[0m \u001b[0;34m=\u001b[0m \u001b[0mim\u001b[0m\u001b[0;34m[\u001b[0m\u001b[0;36m100\u001b[0m\u001b[0;34m:\u001b[0m\u001b[0;34m-\u001b[0m\u001b[0;36m200\u001b[0m\u001b[0;34m,\u001b[0m\u001b[0;34m:\u001b[0m\u001b[0;34m]\u001b[0m                  \u001b[0;31m# crop\u001b[0m\u001b[0;34m\u001b[0m\u001b[0;34m\u001b[0m\u001b[0m\n\u001b[1;32m     11\u001b[0m   \u001b[0mim\u001b[0m \u001b[0;34m=\u001b[0m \u001b[0mcv2\u001b[0m\u001b[0;34m.\u001b[0m\u001b[0mresize\u001b[0m\u001b[0;34m(\u001b[0m\u001b[0mim\u001b[0m\u001b[0;34m,\u001b[0m \u001b[0;34m(\u001b[0m\u001b[0;36m301\u001b[0m\u001b[0;34m,\u001b[0m\u001b[0;36m301\u001b[0m\u001b[0;34m)\u001b[0m\u001b[0;34m)\u001b[0m       \u001b[0;31m# resize\u001b[0m\u001b[0;34m\u001b[0m\u001b[0;34m\u001b[0m\u001b[0m\n",
            "\u001b[0;31mKeyboardInterrupt\u001b[0m: "
          ]
        }
      ]
    },
    {
      "cell_type": "code",
      "metadata": {
        "id": "VjxrZ88n9M44"
      },
      "source": [
        "imgs = np.array(imgs)\n",
        "targets = np.array(targets)\n",
        "\n",
        "imgs.shape , targets.shape"
      ],
      "execution_count": null,
      "outputs": []
    },
    {
      "cell_type": "code",
      "metadata": {
        "id": "MQUaOHCU9SlN"
      },
      "source": [
        "with open('/content/drive/My Drive/RAFD/dataset.obj','wb') as f:\n",
        "  pickle.dump([imgs,targets],f)"
      ],
      "execution_count": null,
      "outputs": []
    },
    {
      "cell_type": "markdown",
      "metadata": {
        "id": "bVWU2LhikSwY"
      },
      "source": [
        "---"
      ]
    },
    {
      "cell_type": "code",
      "metadata": {
        "id": "8SPJu0GVBft4",
        "colab": {
          "base_uri": "https://localhost:8080/",
          "height": 34
        },
        "outputId": "05608bd4-b64a-4e26-da08-630d18577c4b"
      },
      "source": [
        "%pwd"
      ],
      "execution_count": null,
      "outputs": [
        {
          "output_type": "execute_result",
          "data": {
            "text/plain": [
              "'/content'"
            ]
          },
          "metadata": {
            "tags": []
          },
          "execution_count": 5
        }
      ]
    },
    {
      "cell_type": "code",
      "metadata": {
        "id": "edkqTgsy-5N6"
      },
      "source": [
        "with open('/content/drive/My Drive/dataset.obj','rb') as f:\n",
        "  imgs, target = pickle.load(f)"
      ],
      "execution_count": null,
      "outputs": []
    },
    {
      "cell_type": "code",
      "metadata": {
        "id": "--1Z73hHluZr"
      },
      "source": [
        "imgs = (imgs)/255.0\n",
        "dataset = [imgs, target]"
      ],
      "execution_count": null,
      "outputs": []
    },
    {
      "cell_type": "code",
      "metadata": {
        "id": "sgvFKvxckZeL"
      },
      "source": [
        "from tensorflow.keras.layers import Input, Dense, Flatten, Conv2D, Conv2DTranspose, Embedding, Reshape, Concatenate, Dropout , LeakyReLU\n",
        "from tensorflow.keras.activations import relu\n",
        "from tensorflow.keras import Model\n",
        "from tensorflow.keras.optimizers import Adam, RMSprop"
      ],
      "execution_count": null,
      "outputs": []
    },
    {
      "cell_type": "code",
      "metadata": {
        "id": "GLExyIZ_knWQ"
      },
      "source": [
        "n_classes = 8\n",
        "latent_dim = 100"
      ],
      "execution_count": null,
      "outputs": []
    },
    {
      "cell_type": "code",
      "metadata": {
        "id": "knHa8FwOkp8c"
      },
      "source": [
        "def get_descriminator(in_shape=(301,301,3), n_classes=8):\n",
        "\n",
        "  label = Input(shape = (1,))\n",
        "  li = Embedding(n_classes+1,50)(label)\n",
        "\n",
        "  li = Dense(301*301*3)(li)\n",
        "\n",
        "  li = Reshape((301,301,3))(li)\n",
        "\n",
        "  image = Input(shape=in_shape)\n",
        "\n",
        "  merge = Concatenate()([image, li])\n",
        "\n",
        "  fe = Conv2D(128,(3,3), strides=(2,2), padding = 'same')(merge)\n",
        "  fe = LeakyReLU()(fe)\n",
        "\n",
        "  fe = Conv2D(128, (3,3), strides=(2,2), padding='same')(fe)\n",
        "  fe = LeakyReLU()(fe)\n",
        "\n",
        "  fe = Flatten()(fe)\n",
        "  fe = Dropout(0.4)(fe)\n",
        "\n",
        "  out_layer = Dense(1, activation='sigmoid')(fe)\n",
        "\n",
        "  model = Model([image, label], out_layer)\n",
        "\n",
        "  opt = RMSprop(lr=0.0001)\n",
        "  model.compile(loss='binary_crossentropy', optimizer=opt, metrics=['accuracy'])\n",
        " \n",
        "  return model\n"
      ],
      "execution_count": null,
      "outputs": []
    },
    {
      "cell_type": "code",
      "metadata": {
        "id": "NASqH8Lek0kb"
      },
      "source": [
        "def get_generator(latent_dim, n_classes = 8):\n",
        "\n",
        "  d = 49\n",
        "  label = Input(shape=(1,))\n",
        "\n",
        "  li = Embedding(n_classes+1,50)(label)\n",
        "\n",
        "  li = Dense(d * d)(li)\n",
        "  li = Reshape((d,d,1))(li)\n",
        "\n",
        "  latent = Input(shape=(latent_dim,))\n",
        "\n",
        "  gen = Dense(128 * d * d)(latent)\n",
        "  gen = LeakyReLU()(gen)\n",
        "  gen = Reshape((d, d, 128))(gen)\n",
        "\n",
        "  merge = Concatenate()([gen, li])\n",
        "\n",
        "  gen = Conv2DTranspose(128, (4,4), strides=(3,3), padding='valid')(merge)\n",
        "  gen = LeakyReLU()(gen)\n",
        "  gen = Conv2DTranspose(128, (4,4), strides=(2,2), padding='valid')(gen)\n",
        "  gen = LeakyReLU()(gen)\n",
        "  gen = Conv2DTranspose(64, (4,4), strides=(1,1), padding='valid')(gen)\n",
        "  gen = LeakyReLU()(gen)\n",
        "\n",
        "  out_layer = Conv2D(3, (8,8), activation='sigmoid', padding='same')(gen)\n",
        "\n",
        "  model = Model([latent, label], out_layer)\n",
        "  return model"
      ],
      "execution_count": null,
      "outputs": []
    },
    {
      "cell_type": "code",
      "metadata": {
        "id": "zpiMc6yYk6Ml"
      },
      "source": [
        "def cgan(genmodel,discmodel):\n",
        "\n",
        "  discmodel.trainable = False\n",
        "\n",
        "  g_noise, g_label = genmodel.input\n",
        "  g_output = genmodel.output\n",
        "\n",
        "  cgan_output = discmodel([g_output, g_label])\n",
        "\n",
        "  model = Model([g_noise, g_label], cgan_output)\n",
        "\n",
        "  opt = RMSprop(lr=0.0001)\n",
        "  model.compile(loss='binary_crossentropy', optimizer=opt)\n",
        "  return model"
      ],
      "execution_count": null,
      "outputs": []
    },
    {
      "cell_type": "code",
      "metadata": {
        "id": "gYNyVvUUlANT"
      },
      "source": [
        "def generate_real_samples(dataset, n_samples):\n",
        "\t\n",
        "\timages, labels = dataset\n",
        "\n",
        "\tix = np.random.randint(0, images.shape[0], n_samples)\n",
        "\t\n",
        "\tX, labels = images[ix], labels[ix]\n",
        "\t\n",
        "\ty = np.ones((n_samples))\n",
        "\treturn [X, labels], y"
      ],
      "execution_count": null,
      "outputs": []
    },
    {
      "cell_type": "code",
      "metadata": {
        "id": "s_FVceYxlE9G"
      },
      "source": [
        "def generate_latent_points(latent_dim, n_samples, n_classes=8):\n",
        "\t\n",
        "\tx_input = np.random.randn(latent_dim * n_samples)\n",
        "\t\n",
        "\tz_input = x_input.reshape(n_samples, latent_dim)\n",
        "\t\n",
        "\tlabels = np.random.randint(0, n_classes, n_samples)\n",
        "\treturn [z_input, labels]\n",
        " \n",
        "\n",
        "def generate_fake_samples(generator, latent_dim, n_samples):\n",
        "\t\n",
        "\tz_input, labels_input = generate_latent_points(latent_dim, n_samples)\n",
        "\t\n",
        "\timages = generator.predict([z_input, labels_input])\n",
        "\t\n",
        "\ty = np.zeros((n_samples))\n",
        "\treturn [images, labels_input], y"
      ],
      "execution_count": null,
      "outputs": []
    },
    {
      "cell_type": "code",
      "metadata": {
        "id": "i4BX7lRZlJWq"
      },
      "source": [
        "def plot(model,seed):\n",
        "  \n",
        "  predictions = genmodel(seed, training=False)\n",
        "\n",
        "  fig = plt.figure(figsize=(20,10))\n",
        "\n",
        "  for i in range(predictions.shape[0]):\n",
        "      plt.subplot(1, 8, i+1, title=list(emodic.keys())[i])\n",
        "    \n",
        "      plt.imshow(cv2.cvtColor(predictions[i].numpy(), cv2.COLOR_BGR2RGB))\n",
        "      plt.axis('off')\n",
        "  plt.show()"
      ],
      "execution_count": null,
      "outputs": []
    },
    {
      "cell_type": "code",
      "metadata": {
        "id": "jLwusMZjliGY"
      },
      "source": [
        "test_input,y=generate_latent_points(100, 8)\n",
        "y=np.asarray([0,1,2,3,4,5,6,7])\n",
        "seed = [test_input,y]"
      ],
      "execution_count": null,
      "outputs": []
    },
    {
      "cell_type": "code",
      "metadata": {
        "id": "Fk8tZGvgllVJ"
      },
      "source": [
        "def train(genmodel, discmodel, cganmodel, dataset, latent_dim, n_epochs=100, n_batch=8):\n",
        "  bat_per_epo = int(dataset[0].shape[0] / n_batch)\n",
        "  half_batch = int(n_batch / 2)\n",
        "  d1=[]\n",
        "  d2=[]\n",
        "  g=[]\n",
        "  for i in range(n_epochs):\n",
        "\n",
        "    d1v = 0\n",
        "    d2v = 0\n",
        "    gv = 0\n",
        "\n",
        "    \n",
        "    for j in range(bat_per_epo):\n",
        "      display.clear_output(wait=True)\n",
        "      [X_real, labels_real], y_real = generate_real_samples(dataset, half_batch)\n",
        "      d_loss1, _ = discmodel.train_on_batch([X_real, labels_real], y_real)\n",
        "\n",
        "      [X_fake, labels], y_fake = generate_fake_samples(genmodel, latent_dim, half_batch)\n",
        "      d_loss2, _ = discmodel.train_on_batch([X_fake, labels], y_fake)\n",
        "\n",
        "      [z_input, labels_input] = generate_latent_points(latent_dim, n_batch)\n",
        "\n",
        "      y_gan = np.ones((n_batch, 1))\n",
        "\n",
        "      g_loss = cganmodel.train_on_batch([z_input, labels_input], y_gan)\n",
        "\n",
        "      d1v += d_loss1\n",
        "      d2v += d_loss2\n",
        "      gv += g_loss\n",
        "    \n",
        "    d1v /= bat_per_epo\n",
        "    d2v /= bat_per_epo\n",
        "    gv  /= bat_per_epo\n",
        "\n",
        "    d1.append(d1v)\n",
        "    d2.append(d2v)\n",
        "    g.append(gv)\n",
        "      \n",
        "    print('>%d, %d/%d, d1=%.3f, d2=%.3f g=%.3f' %\n",
        "\t\t\t\t(i+1, j+1, bat_per_epo, d_loss1, d_loss2, g_loss))\n",
        "    \n",
        "    plot(genmodel,seed)\n",
        "\n",
        "\n",
        "    \n",
        "\n",
        "    if i%100==0:\n",
        "\n",
        "        genmodel.save_weights(\"/content/drive/My Drive/dl_proj/gen_model_last\"+ str(i) + \".h5\")\n",
        "        discmodel.save_weights(\"/content/drive/My Drive/dl_proj/disc_model_last\"+ str(i) + \".h5\")\n",
        "    \n",
        "\n",
        "  return d1,d2,g\n",
        "      \n"
      ],
      "execution_count": null,
      "outputs": []
    },
    {
      "cell_type": "code",
      "metadata": {
        "id": "ekBrlEazmDav"
      },
      "source": [
        "discmodel = get_descriminator()\n",
        "genmodel = get_generator(latent_dim)\n",
        "cganmodel = cgan(genmodel,discmodel)"
      ],
      "execution_count": null,
      "outputs": []
    },
    {
      "cell_type": "code",
      "metadata": {
        "id": "tAGx9Ik4mFjI",
        "outputId": "64e8b4ce-4e31-4926-ca04-5a929b4edc14",
        "colab": {
          "base_uri": "https://localhost:8080/",
          "height": 51
        }
      },
      "source": [
        "d1,d2,g=train(genmodel, discmodel, cganmodel, dataset, latent_dim,n_epochs=2000)"
      ],
      "execution_count": null,
      "outputs": [
        {
          "output_type": "stream",
          "text": [
            ">152, 60/60, d1=0.480, d2=0.687 g=2.230\n",
            "Buffered data was truncated after reaching the output size limit."
          ],
          "name": "stdout"
        }
      ]
    },
    {
      "cell_type": "code",
      "metadata": {
        "id": "UAb7waUX2aAy"
      },
      "source": [
        "plt.style.use('ggplot')\n",
        "fig = plt.figure(figsize=(15,10))\n",
        "plt.plot(d1[:],label='D real Loss')\n",
        "plt.plot(d2[:],label='D fake Loss')\n",
        "plt.plot(g[:],label='G Loss')\n",
        "plt.legend()\n",
        "plt.text(150,5, \"Lr : 0.0001 epochs : 1000\")\n",
        "plt.show()"
      ],
      "execution_count": null,
      "outputs": []
    }
  ]
}